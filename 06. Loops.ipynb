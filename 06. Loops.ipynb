{
 "cells": [
  {
   "cell_type": "markdown",
   "id": "5bfc38ea",
   "metadata": {},
   "source": [
    "# Loops\n",
    "are a type of control instruction used for `iteration` and `repetition`. Iteration is the process of carrying out the same operation on various objects one at a time. Repetition refers to carrying out an operation more than once.\n",
    "\n",
    "There are two types of loops\n",
    "\n",
    "`for` loop\n",
    "\n",
    "`while` loop\n"
   ]
  },
  {
   "cell_type": "markdown",
   "id": "f12bb8a5",
   "metadata": {},
   "source": [
    "# for loop "
   ]
  },
  {
   "cell_type": "markdown",
   "id": "b6478c63",
   "metadata": {},
   "source": [
    "for loop_variable in sequence:\n",
    "\n",
    "    do something   (loop body)"
   ]
  },
  {
   "cell_type": "code",
   "execution_count": 1,
   "id": "a83938fb",
   "metadata": {},
   "outputs": [
    {
     "name": "stdout",
     "output_type": "stream",
     "text": [
      "a\n",
      "b\n",
      "c\n"
     ]
    }
   ],
   "source": [
    "l = ['a', 'b', 'c']\n",
    "for element in l:\n",
    "    print(element)"
   ]
  },
  {
   "cell_type": "code",
   "execution_count": 2,
   "id": "08acdbc2",
   "metadata": {},
   "outputs": [
    {
     "name": "stdout",
     "output_type": "stream",
     "text": [
      "P\n",
      "y\n",
      "t\n",
      "h\n",
      "o\n",
      "n\n"
     ]
    }
   ],
   "source": [
    "s = 'Python'\n",
    "for char in s:\n",
    "    print(char)"
   ]
  },
  {
   "cell_type": "code",
   "execution_count": 3,
   "id": "b40bef2f",
   "metadata": {},
   "outputs": [
    {
     "name": "stdout",
     "output_type": "stream",
     "text": [
      "21\n"
     ]
    }
   ],
   "source": [
    "# claculate sum of the following list\n",
    "l = [1, 2, 3, 4, 5, 6]\n",
    "sum_list = 0\n",
    "for i in l:\n",
    "    sum_list += i\n",
    "print(sum_list)"
   ]
  },
  {
   "cell_type": "markdown",
   "id": "d10bb31f",
   "metadata": {},
   "source": [
    "### range function"
   ]
  },
  {
   "cell_type": "code",
   "execution_count": 4,
   "id": "0cec2680",
   "metadata": {},
   "outputs": [
    {
     "name": "stdout",
     "output_type": "stream",
     "text": [
      "[2, 4, 6, 8]\n"
     ]
    }
   ],
   "source": [
    "# range(start, stop, step)\n",
    "print(list(range(2, 10, 2)))"
   ]
  },
  {
   "cell_type": "code",
   "execution_count": 5,
   "id": "d61e72ff",
   "metadata": {},
   "outputs": [
    {
     "name": "stdout",
     "output_type": "stream",
     "text": [
      "[2, 3, 4, 5, 6, 7, 8, 9]\n"
     ]
    }
   ],
   "source": [
    "print(list(range(2, 10)))"
   ]
  },
  {
   "cell_type": "code",
   "execution_count": 6,
   "id": "ad5d96fc",
   "metadata": {
    "scrolled": true
   },
   "outputs": [
    {
     "name": "stdout",
     "output_type": "stream",
     "text": [
      "[0, 1, 2, 3, 4, 5, 6, 7, 8, 9]\n"
     ]
    }
   ],
   "source": [
    "print(list(range(10)))"
   ]
  },
  {
   "cell_type": "code",
   "execution_count": 7,
   "id": "ee68fd49",
   "metadata": {},
   "outputs": [
    {
     "name": "stdout",
     "output_type": "stream",
     "text": [
      "0\n",
      "1\n",
      "2\n"
     ]
    }
   ],
   "source": [
    "for i in range(3):\n",
    "    print(i)"
   ]
  },
  {
   "cell_type": "markdown",
   "id": "20fdb624",
   "metadata": {},
   "source": [
    "### continue and break"
   ]
  },
  {
   "cell_type": "code",
   "execution_count": 8,
   "id": "dc3439be",
   "metadata": {},
   "outputs": [
    {
     "name": "stdout",
     "output_type": "stream",
     "text": [
      "9\n"
     ]
    }
   ],
   "source": [
    "# calculate sum of odd numbers\n",
    "l = [1, 2, 3, 4, 5, 6]\n",
    "sum_of_odds = 0\n",
    "for i in l:\n",
    "    if i % 2 == 0:\n",
    "        continue\n",
    "    else:\n",
    "        sum_of_odds += i\n",
    "print(sum_of_odds)"
   ]
  },
  {
   "cell_type": "code",
   "execution_count": 9,
   "id": "7e47076b",
   "metadata": {},
   "outputs": [
    {
     "name": "stdout",
     "output_type": "stream",
     "text": [
      "15\n"
     ]
    }
   ],
   "source": [
    "l = [1, 2, 3, 4, 5, 6, 7, 8]\n",
    "sum5 = 0\n",
    "for i in l:\n",
    "    if i > 5:\n",
    "        break\n",
    "    sum5 += i\n",
    "print(sum5)"
   ]
  },
  {
   "cell_type": "markdown",
   "id": "7ab48d4b",
   "metadata": {},
   "source": [
    "### nested loops"
   ]
  },
  {
   "cell_type": "code",
   "execution_count": 10,
   "id": "5b143ed8",
   "metadata": {},
   "outputs": [
    {
     "name": "stdout",
     "output_type": "stream",
     "text": [
      "Week:  week1  Day:  day1\n",
      "Week:  week1  Day:  day2\n",
      "Week:  week2  Day:  day1\n",
      "Week:  week2  Day:  day2\n"
     ]
    }
   ],
   "source": [
    "weeks = ['week1', 'week2']\n",
    "days = ['day1', 'day2']\n",
    "for week in weeks:\n",
    "    for day in days:\n",
    "        print(\"Week: \", week, \" Day: \", day)"
   ]
  },
  {
   "cell_type": "code",
   "execution_count": null,
   "id": "2dc5c1a2",
   "metadata": {},
   "outputs": [],
   "source": [
    "weeks = ['week1', 'week2']\n",
    "days = ['day1', 'day2']\n",
    "for week in weeks:\n",
    "    print(\"Week: \", week)\n",
    "    for day in days:\n",
    "        print(\"    Day: \", day)"
   ]
  },
  {
   "cell_type": "code",
   "execution_count": null,
   "id": "166c692d",
   "metadata": {},
   "outputs": [],
   "source": []
  },
  {
   "cell_type": "code",
   "execution_count": null,
   "id": "dadb4458",
   "metadata": {},
   "outputs": [],
   "source": [
    "# Keep naming in iteration pythonic\n",
    "cars = ['Ford', 'Toyota', 'Mazda']\n",
    "for car in cars:\n",
    "    print(car)"
   ]
  },
  {
   "cell_type": "code",
   "execution_count": null,
   "id": "e71dd3b1",
   "metadata": {},
   "outputs": [],
   "source": []
  },
  {
   "cell_type": "markdown",
   "id": "da7c2abb",
   "metadata": {},
   "source": [
    "# while loop"
   ]
  },
  {
   "cell_type": "markdown",
   "id": "865adf04",
   "metadata": {},
   "source": [
    "while {condition}:\n",
    "\n",
    "    run if condition is True\n",
    "    \n",
    "    "
   ]
  },
  {
   "cell_type": "code",
   "execution_count": null,
   "id": "701a0efa",
   "metadata": {},
   "outputs": [],
   "source": [
    "def addN(n):\n",
    "    \"\"\"This function calculate 0+1+2+3+...+n\"\"\"\n",
    "    total, i = 0, 0\n",
    "    while i <= n:\n",
    "        total += i\n",
    "        i += 1\n",
    "    return total"
   ]
  },
  {
   "cell_type": "code",
   "execution_count": null,
   "id": "caf53966",
   "metadata": {},
   "outputs": [],
   "source": [
    "addN(5)"
   ]
  },
  {
   "cell_type": "code",
   "execution_count": null,
   "id": "e9d77172",
   "metadata": {},
   "outputs": [],
   "source": [
    "addN(1000)"
   ]
  },
  {
   "cell_type": "markdown",
   "id": "44fd5559",
   "metadata": {},
   "source": [
    "### break  to exit the loop\n",
    "### continue"
   ]
  },
  {
   "cell_type": "markdown",
   "id": "50eafc2a",
   "metadata": {},
   "source": [
    "while {condition}:\n",
    "    \n",
    "    loop body\n",
    "    \n",
    "    break : break out of loop\n",
    "    \n",
    "    loop body:  will be skipped"
   ]
  },
  {
   "cell_type": "code",
   "execution_count": null,
   "id": "0f0b0abd",
   "metadata": {},
   "outputs": [],
   "source": [
    "def add_up_to_four(n):\n",
    "    \"\"\"This function calculate 0+1+2+3+4\"\"\"\n",
    "    total, i = 0, 0\n",
    "    while i <= n:\n",
    "        if i == 5:\n",
    "            break\n",
    "        total += i\n",
    "        i += 1\n",
    "    return total"
   ]
  },
  {
   "cell_type": "code",
   "execution_count": null,
   "id": "1d3bf606",
   "metadata": {},
   "outputs": [],
   "source": [
    "add_up_to_four(50)"
   ]
  },
  {
   "cell_type": "code",
   "execution_count": null,
   "id": "a8f6519c",
   "metadata": {},
   "outputs": [],
   "source": []
  },
  {
   "cell_type": "code",
   "execution_count": null,
   "id": "2c178097",
   "metadata": {},
   "outputs": [],
   "source": []
  },
  {
   "cell_type": "markdown",
   "id": "8e085de7",
   "metadata": {},
   "source": [
    "while {condition}:\n",
    "    \n",
    "    loop body\n",
    "    \n",
    "    continue : returns to the begining of while loop\n",
    "    \n",
    "    loop body: will be skipped"
   ]
  },
  {
   "cell_type": "code",
   "execution_count": null,
   "id": "420dcc64",
   "metadata": {},
   "outputs": [],
   "source": [
    "def add_odd_numbers(n):\n",
    "    \"\"\"This function calculate 1+3+5+...+n\"\"\"\n",
    "    total, i = 0, 0\n",
    "    while i < n:\n",
    "        i += 1\n",
    "        if i % 2 == 0:\n",
    "            continue\n",
    "        total += i\n",
    "    return total"
   ]
  },
  {
   "cell_type": "code",
   "execution_count": null,
   "id": "b1858efd",
   "metadata": {},
   "outputs": [],
   "source": [
    "add_odd_numbers(6)"
   ]
  },
  {
   "cell_type": "markdown",
   "id": "a9ce835f",
   "metadata": {},
   "source": [
    "##  Do not fall in infinite loop"
   ]
  },
  {
   "cell_type": "code",
   "execution_count": null,
   "id": "816b3a2a",
   "metadata": {},
   "outputs": [],
   "source": []
  },
  {
   "cell_type": "markdown",
   "id": "554359cc",
   "metadata": {},
   "source": [
    "## nested loop"
   ]
  },
  {
   "cell_type": "code",
   "execution_count": null,
   "id": "6faa4edc",
   "metadata": {},
   "outputs": [],
   "source": []
  }
 ],
 "metadata": {
  "kernelspec": {
   "display_name": "Python 3",
   "language": "python",
   "name": "python3"
  },
  "language_info": {
   "codemirror_mode": {
    "name": "ipython",
    "version": 3
   },
   "file_extension": ".py",
   "mimetype": "text/x-python",
   "name": "python",
   "nbconvert_exporter": "python",
   "pygments_lexer": "ipython3",
   "version": "3.8.3"
  }
 },
 "nbformat": 4,
 "nbformat_minor": 5
}
