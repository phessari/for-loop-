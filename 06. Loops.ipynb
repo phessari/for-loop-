{
 "cells": [
  {
   "cell_type": "markdown",
   "id": "8f10b4ba",
   "metadata": {},
   "source": [
    "# Loops\n",
    "are a type of control instruction used for `iteration` and `repetition`. Iteration is the process of carrying out the same operation on various objects one at a time. Repetition refers to carrying out an operation more than once.\n",
    "\n",
    "There are two types of loops\n",
    "\n",
    "`for` loop\n",
    "\n",
    "`while` loop\n"
   ]
  },
  {
   "cell_type": "code",
   "execution_count": null,
   "id": "9844fa01",
   "metadata": {},
   "outputs": [],
   "source": []
  },
  {
   "cell_type": "markdown",
   "id": "97500d8c",
   "metadata": {},
   "source": [
    "# for loop "
   ]
  },
  {
   "cell_type": "markdown",
   "id": "6eea8ec7",
   "metadata": {},
   "source": [
    "for loop_variable in sequence:\n",
    "\n",
    "    do something   (loop body)"
   ]
  },
  {
   "cell_type": "code",
   "execution_count": null,
   "id": "fdba26c2",
   "metadata": {},
   "outputs": [],
   "source": [
    "l = ['a', 'b', 'c']\n",
    "for element in l:\n",
    "    print(element)"
   ]
  },
  {
   "cell_type": "code",
   "execution_count": null,
   "id": "0f993b79",
   "metadata": {},
   "outputs": [],
   "source": [
    "s = 'Python'\n",
    "for char in s:\n",
    "    print(char)"
   ]
  },
  {
   "cell_type": "code",
   "execution_count": null,
   "id": "233285ce",
   "metadata": {},
   "outputs": [],
   "source": [
    "# claculate sum of the following list\n",
    "l = [1, 2, 3, 4, 5, 6]\n",
    "sum_list = 0\n",
    "for i in l:\n",
    "    sum_list += i\n",
    "print(sum_list)"
   ]
  },
  {
   "cell_type": "markdown",
   "id": "291f7b37",
   "metadata": {},
   "source": [
    "### range function"
   ]
  },
  {
   "cell_type": "code",
   "execution_count": null,
   "id": "989ded79",
   "metadata": {},
   "outputs": [],
   "source": [
    "# range(start, stop, step)\n",
    "print(list(range(2, 10, 2)))"
   ]
  },
  {
   "cell_type": "code",
   "execution_count": null,
   "id": "d257cd95",
   "metadata": {},
   "outputs": [],
   "source": [
    "print(list(range(2, 10)))"
   ]
  },
  {
   "cell_type": "code",
   "execution_count": null,
   "id": "ce9f8122",
   "metadata": {
    "scrolled": true
   },
   "outputs": [],
   "source": [
    "print(list(range(10)))"
   ]
  },
  {
   "cell_type": "code",
   "execution_count": null,
   "id": "c850dcf6",
   "metadata": {},
   "outputs": [],
   "source": [
    "for i in range(3):\n",
    "    print(i)"
   ]
  },
  {
   "cell_type": "markdown",
   "id": "9e54c54a",
   "metadata": {},
   "source": [
    "### continue and break"
   ]
  },
  {
   "cell_type": "code",
   "execution_count": null,
   "id": "a89f383f",
   "metadata": {},
   "outputs": [],
   "source": [
    "# calculate sum of odd numbers\n",
    "l = [1, 2, 3, 4, 5, 6]\n",
    "sum_of_odds = 0\n",
    "for i in l:\n",
    "    if i % 2 == 0:\n",
    "        continue\n",
    "    else:\n",
    "        sum_of_odds += i\n",
    "print(sum_of_odds)"
   ]
  },
  {
   "cell_type": "code",
   "execution_count": null,
   "id": "8218e411",
   "metadata": {},
   "outputs": [],
   "source": [
    "l = [1, 2, 3, 4, 5, 6, 7, 8]\n",
    "sum5 = 0\n",
    "for i in l:\n",
    "    if i > 5:\n",
    "        break\n",
    "    sum5 += i\n",
    "print(sum5)"
   ]
  },
  {
   "cell_type": "markdown",
   "id": "a8cbded6",
   "metadata": {},
   "source": [
    "### nested loops"
   ]
  },
  {
   "cell_type": "code",
   "execution_count": null,
   "id": "a7a63a07",
   "metadata": {},
   "outputs": [],
   "source": [
    "weeks = ['week1', 'week2']\n",
    "days = ['day1', 'day2']\n",
    "for week in weeks:\n",
    "    for day in days:\n",
    "        print(\"Week: \", week, \" Day: \", day)"
   ]
  },
  {
   "cell_type": "code",
   "execution_count": null,
   "id": "fef927ba",
   "metadata": {},
   "outputs": [],
   "source": [
    "weeks = ['week1', 'week2']\n",
    "days = ['day1', 'day2']\n",
    "for week in weeks:\n",
    "    print(\"Week: \", week)\n",
    "    for day in days:\n",
    "        print(\"    Day: \", day)"
   ]
  },
  {
   "cell_type": "code",
   "execution_count": null,
   "id": "e3b0403f",
   "metadata": {},
   "outputs": [],
   "source": []
  },
  {
   "cell_type": "code",
   "execution_count": null,
   "id": "cefd02e6",
   "metadata": {},
   "outputs": [],
   "source": [
    "# Keep naming in iteration pythonic\n",
    "cars = ['Ford', 'Toyota', 'Mazda']\n",
    "for car in cars:\n",
    "    print(car)"
   ]
  },
  {
   "cell_type": "code",
   "execution_count": null,
   "id": "60961079",
   "metadata": {},
   "outputs": [],
   "source": []
  },
  {
   "cell_type": "code",
   "execution_count": null,
   "id": "cdd23861",
   "metadata": {},
   "outputs": [],
   "source": []
  },
  {
   "cell_type": "code",
   "execution_count": null,
   "id": "1cfd0e3a",
   "metadata": {},
   "outputs": [],
   "source": []
  },
  {
   "cell_type": "markdown",
   "id": "66d698c3",
   "metadata": {},
   "source": [
    "# while loop"
   ]
  },
  {
   "cell_type": "markdown",
   "id": "d9933f3e",
   "metadata": {},
   "source": [
    "while condition:\n",
    "\n",
    "    run if condition is True"
   ]
  },
  {
   "cell_type": "code",
   "execution_count": null,
   "id": "a733d285",
   "metadata": {},
   "outputs": [],
   "source": [
    "i = 0\n",
    "while i < 2:\n",
    "    print(i)\n",
    "    i += 1"
   ]
  },
  {
   "cell_type": "code",
   "execution_count": null,
   "id": "fc9e9c48",
   "metadata": {},
   "outputs": [],
   "source": []
  },
  {
   "cell_type": "code",
   "execution_count": 1,
   "id": "62184f79",
   "metadata": {},
   "outputs": [
    {
     "name": "stdout",
     "output_type": "stream",
     "text": [
      "Enter a number: 4\n",
      "4\n",
      "Enter a number: 2\n",
      "2\n",
      "Enter a number: -1\n",
      "Done!\n"
     ]
    }
   ],
   "source": [
    "num = int(input('Enter a number: '))\n",
    "while num > 0:\n",
    "    print(num)\n",
    "    num = int(input('Enter a number: '))\n",
    "print('Done!')"
   ]
  },
  {
   "cell_type": "code",
   "execution_count": null,
   "id": "9e5af440",
   "metadata": {},
   "outputs": [],
   "source": []
  },
  {
   "cell_type": "code",
   "execution_count": null,
   "id": "aab62679",
   "metadata": {},
   "outputs": [],
   "source": [
    "def addN(n):\n",
    "    \"\"\"This function calculate 0+1+2+3+...+n\"\"\"\n",
    "    total, i = 0, 0\n",
    "    while i <= n:\n",
    "        total += i\n",
    "        i += 1\n",
    "    return total"
   ]
  },
  {
   "cell_type": "code",
   "execution_count": null,
   "id": "cb0bc55a",
   "metadata": {},
   "outputs": [],
   "source": []
  },
  {
   "cell_type": "code",
   "execution_count": null,
   "id": "8824017b",
   "metadata": {},
   "outputs": [],
   "source": []
  },
  {
   "cell_type": "markdown",
   "id": "d0ca0504",
   "metadata": {},
   "source": [
    "### break  to exit the loop"
   ]
  },
  {
   "cell_type": "markdown",
   "id": "554ec8f7",
   "metadata": {},
   "source": [
    "while {condition}:\n",
    "    \n",
    "    loop body\n",
    "    \n",
    "    break if a condition is met : exit the while loop\n",
    "    \n",
    "    loop body:  will be skipped"
   ]
  },
  {
   "cell_type": "code",
   "execution_count": 2,
   "id": "9922e786",
   "metadata": {},
   "outputs": [
    {
     "name": "stdout",
     "output_type": "stream",
     "text": [
      "Enter a number: 4\n",
      "4\n",
      "Enter a number: 2\n",
      "2\n",
      "Enter a number: 5\n",
      "Done!\n"
     ]
    }
   ],
   "source": [
    "num = int(input('Enter a number: '))\n",
    "while num > 0:\n",
    "    print(num)\n",
    "    num = int(input('Enter a number: '))\n",
    "    if num == 5:\n",
    "        break\n",
    "print('Done!')"
   ]
  },
  {
   "cell_type": "code",
   "execution_count": null,
   "id": "432a095f",
   "metadata": {},
   "outputs": [],
   "source": []
  },
  {
   "cell_type": "code",
   "execution_count": null,
   "id": "115d6832",
   "metadata": {},
   "outputs": [],
   "source": []
  },
  {
   "cell_type": "code",
   "execution_count": null,
   "id": "747fe818",
   "metadata": {},
   "outputs": [],
   "source": []
  },
  {
   "cell_type": "code",
   "execution_count": null,
   "id": "db9efa7f",
   "metadata": {},
   "outputs": [],
   "source": [
    "def add_up_to_four(n):\n",
    "    \"\"\"This function calculate 0+1+2+3+4\"\"\"\n",
    "    total, i = 0, 0\n",
    "    while i <= n:\n",
    "        if i == 5:\n",
    "            break\n",
    "        total += i\n",
    "        i += 1\n",
    "    return total"
   ]
  },
  {
   "cell_type": "code",
   "execution_count": null,
   "id": "3cba280e",
   "metadata": {},
   "outputs": [],
   "source": [
    "add_up_to_four(50)"
   ]
  },
  {
   "cell_type": "code",
   "execution_count": null,
   "id": "8d6a1181",
   "metadata": {},
   "outputs": [],
   "source": []
  },
  {
   "cell_type": "markdown",
   "id": "f42f090d",
   "metadata": {},
   "source": [
    "## continue"
   ]
  },
  {
   "cell_type": "markdown",
   "id": "f86a1a95",
   "metadata": {},
   "source": [
    "while {condition}:\n",
    "    \n",
    "    loop body\n",
    "    \n",
    "    continue : returns to the begining of while loop\n",
    "    \n",
    "    loop body: will be skipped"
   ]
  },
  {
   "cell_type": "code",
   "execution_count": 1,
   "id": "af3b4e89",
   "metadata": {},
   "outputs": [
    {
     "name": "stdout",
     "output_type": "stream",
     "text": [
      "9\n"
     ]
    }
   ],
   "source": [
    "n = 6    # 1 + 3 + 5 = 9\n",
    "total, i = 0, 0\n",
    "while i < n:\n",
    "    i += 1\n",
    "    if i % 2 == 0:\n",
    "        continue\n",
    "    total += i\n",
    "print(total)"
   ]
  },
  {
   "cell_type": "code",
   "execution_count": null,
   "id": "cf8df990",
   "metadata": {},
   "outputs": [],
   "source": []
  },
  {
   "cell_type": "code",
   "execution_count": null,
   "id": "f717583f",
   "metadata": {},
   "outputs": [],
   "source": []
  },
  {
   "cell_type": "code",
   "execution_count": null,
   "id": "fd2638a9",
   "metadata": {},
   "outputs": [],
   "source": []
  },
  {
   "cell_type": "code",
   "execution_count": null,
   "id": "f01cb0b1",
   "metadata": {},
   "outputs": [],
   "source": []
  }
 ],
 "metadata": {
  "kernelspec": {
   "display_name": "Python 3",
   "language": "python",
   "name": "python3"
  },
  "language_info": {
   "codemirror_mode": {
    "name": "ipython",
    "version": 3
   },
   "file_extension": ".py",
   "mimetype": "text/x-python",
   "name": "python",
   "nbconvert_exporter": "python",
   "pygments_lexer": "ipython3",
   "version": "3.8.3"
  }
 },
 "nbformat": 4,
 "nbformat_minor": 5
}
